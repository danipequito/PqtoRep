{
  "nbformat": 4,
  "nbformat_minor": 0,
  "metadata": {
    "colab": {
      "provenance": [],
      "authorship_tag": "ABX9TyP6V5zFNt4qFQ/h2CsCoiir",
      "include_colab_link": true
    },
    "kernelspec": {
      "name": "python3",
      "display_name": "Python 3"
    },
    "language_info": {
      "name": "python"
    }
  },
  "cells": [
    {
      "cell_type": "markdown",
      "metadata": {
        "id": "view-in-github",
        "colab_type": "text"
      },
      "source": [
        "<a href=\"https://colab.research.google.com/github/danipequito/PqtoRep/blob/main/%5BAula01%5D_IA_na_Sa%C3%BAde.ipynb\" target=\"_parent\"><img src=\"https://colab.research.google.com/assets/colab-badge.svg\" alt=\"Open In Colab\"/></a>"
      ]
    },
    {
      "cell_type": "markdown",
      "source": [
        "# **Bem-vindos à disciplina de IA aplicada a Saúde!**#\n",
        "### Este é o ambiente **notebook** Google Colaboratory. Ele é capaz de executar scripts Python, utilizada para diversas tarefas, dentre elas Aprendizado de Máquina e Inteligência Artificial de forma interativa.\n",
        "\n",
        "Notebooks combinam a execução de códigos com a formatação de texto.\n",
        "### Como a IA pode impactar nossas vidas e sociedades?"
      ],
      "metadata": {
        "id": "J9VmP_YCkR9q"
      }
    },
    {
      "cell_type": "code",
      "source": [
        "# montando o google drive\n",
        "from google.colab import drive\n",
        "drive.mount('/content/drive')"
      ],
      "metadata": {
        "colab": {
          "base_uri": "https://localhost:8080/"
        },
        "id": "ldgGYkEptUov",
        "outputId": "ea03a7a9-3260-47a2-9a54-d4a2f1ad1f41"
      },
      "execution_count": null,
      "outputs": [
        {
          "output_type": "stream",
          "name": "stdout",
          "text": [
            "Mounted at /content/drive\n"
          ]
        }
      ]
    },
    {
      "cell_type": "code",
      "source": [
        "# setando o diretório\n",
        "%cd /content/drive/My Drive/IA Saúde"
      ],
      "metadata": {
        "colab": {
          "base_uri": "https://localhost:8080/"
        },
        "id": "2prgU5xwtt_1",
        "outputId": "1866a239-b4f9-4188-a8c9-09eeed4195bf"
      },
      "execution_count": null,
      "outputs": [
        {
          "output_type": "stream",
          "name": "stdout",
          "text": [
            "/content/drive/My Drive/IA Saúde\n"
          ]
        }
      ]
    },
    {
      "cell_type": "code",
      "source": [
        "from IPython.display import display\n",
        "from PIL import Image\n",
        "from google.colab import files\n",
        "\n",
        "def adicionar_imagem():\n",
        "    uploaded = files.upload()\n",
        "    for filename in uploaded.keys():\n",
        "        img = Image.open(filename)\n",
        "        display(img)"
      ],
      "metadata": {
        "id": "xiNsL0u1ryyJ"
      },
      "execution_count": null,
      "outputs": []
    },
    {
      "cell_type": "code",
      "source": [
        "adicionar_imagem()"
      ],
      "metadata": {
        "id": "hbCYkWZYuI2p"
      },
      "execution_count": null,
      "outputs": []
    },
    {
      "cell_type": "markdown",
      "source": [
        "## **O que é Python?**\n",
        "### É uma linguagem de programação gratuita orientada a objetos (POO).\n",
        "### Amplamente utilizada em ciência de dados.\n",
        "### Nesta disciplina, aprenderemos alguns aspectos importantes desta linguagem para poder utilizá-la em tarefas de aprendizado de máquina e inteligência artificial.\n",
        "### Vamos aprender algumas coisas importantes desta linguagem:"
      ],
      "metadata": {
        "id": "CbaV8MZgkI93"
      }
    },
    {
      "cell_type": "markdown",
      "source": [
        "### **Variável**: é uma forma de armazenamento de dados na memória do computador, como números e palavras por exemplo. A partir dela, podemos acessar e manipular esse dado nas tarefas que precisamos executar.\n",
        "#### Como criamos uma variável em Python?\n",
        "##### Exemplo:\n",
        "noma_da_variavel = valor (palavras ou letras ou números...)"
      ],
      "metadata": {
        "id": "x29nurackRAP"
      }
    },
    {
      "cell_type": "code",
      "source": [
        "numero = 2\n",
        "idade = 20\n",
        "nota = 8\n",
        "fruta = 'abacaxi'\n",
        "frutas = ['abacaxi', 'maça', 'morango']\n",
        "altura = 1.80"
      ],
      "metadata": {
        "id": "Vcr2XjQbmzpz"
      },
      "execution_count": null,
      "outputs": []
    },
    {
      "cell_type": "markdown",
      "source": [
        "Podemos atribuir diversos valores a diversas variáveis em uma declaração:"
      ],
      "metadata": {
        "id": "ctUiwLmfjxjT"
      }
    },
    {
      "cell_type": "code",
      "source": [
        "a, b ,c = 5, 'ufms', 5.0\n",
        "print(a, b, c)\n",
        "print(type(a))\n",
        "print(type(b))\n",
        "print(type(c))"
      ],
      "metadata": {
        "colab": {
          "base_uri": "https://localhost:8080/",
          "height": 0
        },
        "id": "Hxic_ji5j266",
        "outputId": "2017800d-cb90-4a90-b469-b49b5d514895"
      },
      "execution_count": 12,
      "outputs": [
        {
          "output_type": "stream",
          "name": "stdout",
          "text": [
            "5 ufms 5.0\n",
            "<class 'int'>\n",
            "<class 'str'>\n",
            "<class 'float'>\n"
          ]
        }
      ]
    },
    {
      "cell_type": "markdown",
      "source": [
        "#### Vamos imprimir na tela os valores associados a estas variáveis:"
      ],
      "metadata": {
        "id": "GDylq3mTngcG"
      }
    },
    {
      "cell_type": "code",
      "source": [
        "print(numero)\n",
        "print(idade)\n",
        "print(nota)\n",
        "print(fruta)\n",
        "print(frutas)\n",
        "print(altura)"
      ],
      "metadata": {
        "colab": {
          "base_uri": "https://localhost:8080/"
        },
        "id": "dtgz724ynY6j",
        "outputId": "f76ab99f-6fa4-4589-c905-50c77045fd55"
      },
      "execution_count": null,
      "outputs": [
        {
          "output_type": "stream",
          "name": "stdout",
          "text": [
            "2\n",
            "20\n",
            "8\n",
            "abacaxi\n",
            "['abacaxi', 'maça', 'morango']\n",
            "1.8\n"
          ]
        }
      ]
    },
    {
      "cell_type": "markdown",
      "source": [
        "#### Posso alterar estes valores?"
      ],
      "metadata": {
        "id": "5EAsNrdxnqB6"
      }
    },
    {
      "cell_type": "code",
      "source": [
        "numero = 3\n",
        "print(numero)"
      ],
      "metadata": {
        "colab": {
          "base_uri": "https://localhost:8080/"
        },
        "id": "fWYVxjojnssi",
        "outputId": "f7311701-0719-42c1-9401-a5dfdae1bf2f"
      },
      "execution_count": null,
      "outputs": [
        {
          "output_type": "stream",
          "name": "stdout",
          "text": [
            "3\n"
          ]
        }
      ]
    },
    {
      "cell_type": "markdown",
      "source": [
        "#### Como posso manipular essas variáveis?"
      ],
      "metadata": {
        "id": "OUsW2l1ghvFU"
      }
    },
    {
      "cell_type": "code",
      "source": [
        "numero == 14"
      ],
      "metadata": {
        "colab": {
          "base_uri": "https://localhost:8080/"
        },
        "id": "KOZXuHPvhyRU",
        "outputId": "b59022ba-4f32-459c-8e9e-be90a8986dd7"
      },
      "execution_count": null,
      "outputs": [
        {
          "output_type": "execute_result",
          "data": {
            "text/plain": [
              "False"
            ]
          },
          "metadata": {},
          "execution_count": 6
        }
      ]
    },
    {
      "cell_type": "code",
      "source": [
        "nota <= 8"
      ],
      "metadata": {
        "colab": {
          "base_uri": "https://localhost:8080/"
        },
        "id": "Fp0AAPc4h3uV",
        "outputId": "531095f3-0fa8-4783-b3cf-a35c85b9c09f"
      },
      "execution_count": null,
      "outputs": [
        {
          "output_type": "execute_result",
          "data": {
            "text/plain": [
              "True"
            ]
          },
          "metadata": {},
          "execution_count": 7
        }
      ]
    },
    {
      "cell_type": "code",
      "source": [
        "nome = 'João'\n",
        "apelido = 'Joãozinho'\n",
        "print('O nome dele é ' + nome + ' e o chamam de ' + apelido)"
      ],
      "metadata": {
        "colab": {
          "base_uri": "https://localhost:8080/",
          "height": 0
        },
        "id": "iXaDgV2lh-0L",
        "outputId": "817bd139-5f53-4221-b590-697144000e78"
      },
      "execution_count": 7,
      "outputs": [
        {
          "output_type": "stream",
          "name": "stdout",
          "text": [
            "O nome dele é João e o chamam de Joãozinho\n"
          ]
        }
      ]
    },
    {
      "cell_type": "markdown",
      "source": [
        "#### Exemplos de operações básicas"
      ],
      "metadata": {
        "id": "2DuzUdUJoXaB"
      }
    },
    {
      "cell_type": "code",
      "source": [
        "x = 2\n",
        "y = 10\n",
        "\n",
        "soma = x + y\n",
        "subtracao = x - y\n",
        "multiplicacao = x*y\n",
        "divisao = x/y\n",
        "\n",
        "print(soma)\n",
        "print(subtracao)\n",
        "print(multiplicacao)\n",
        "print(divisao)"
      ],
      "metadata": {
        "colab": {
          "base_uri": "https://localhost:8080/",
          "height": 0
        },
        "id": "CXVL5D88oaeA",
        "outputId": "042880ec-286a-4620-ccbd-49c3dfb34f2a"
      },
      "execution_count": 13,
      "outputs": [
        {
          "output_type": "stream",
          "name": "stdout",
          "text": [
            "12\n",
            "-8\n",
            "20\n",
            "0.2\n"
          ]
        }
      ]
    },
    {
      "cell_type": "code",
      "source": [
        "import numpy as np\n",
        "nota1 = 10\n",
        "nota2 = 5\n",
        "nota3 = 2\n",
        "media = (nota1 + nota2 + nota3)/3\n",
        "\n",
        "print('A média calculada manualmente é: {}'.format(media))"
      ],
      "metadata": {
        "colab": {
          "base_uri": "https://localhost:8080/",
          "height": 0
        },
        "id": "eRURM15pi7hL",
        "outputId": "eb2d5d86-be01-4468-8c7b-c336d65dc71d"
      },
      "execution_count": 14,
      "outputs": [
        {
          "output_type": "stream",
          "name": "stdout",
          "text": [
            "A média calculada manualmente é: 5.666666666666667\n"
          ]
        }
      ]
    },
    {
      "cell_type": "markdown",
      "source": [
        "### **Quais são os tipos de dados e variáveis em Python?**\n",
        "- *Variável*: 'nome' atribuído a um determinado valor que será armazenado na memória do computador;\n",
        "- *Dado*: valor real que está sendo armazenado.\n",
        "1. '**int**': *inteiros* - números (sem a parte fracionária);\n",
        "2. '**float**': *número de ponto flutuante* - números com a parte fracionária;\n",
        "3. '**str**': *strings* - sequência de caracteres para armazenamento de texto;\n",
        "4. '**bool**': *booleanos* - valores lógicos que permitem avaliar condições (True/False);\n",
        "5. '**list**': *listas* - são coleções ordenadas de itens (podem ser de tipos diferentes);\n",
        "6. '**tuple**': *tuplas* - parecidas com listas, mas não podem mais ser alteradas após sua criação, são imutáveis;\n",
        "7. '**dict**': *dicionários* - uma associação de uma chave com um valor.\n",
        "\n",
        "#### Vamos aprender com alguns exemplos."
      ],
      "metadata": {
        "id": "miDi-geJriIe"
      }
    },
    {
      "cell_type": "code",
      "source": [
        "inteiro = 5\n",
        "float1 = 5.7\n",
        "str2 = 'saúde'\n",
        "lista = [5, 5.7, 'saúde']\n",
        "dicionario = {'disciplina': 'IA', 'nota': 10}"
      ],
      "metadata": {
        "id": "A7Eh-nDot6O7"
      },
      "execution_count": 1,
      "outputs": []
    },
    {
      "cell_type": "code",
      "source": [
        "lista"
      ],
      "metadata": {
        "colab": {
          "base_uri": "https://localhost:8080/"
        },
        "id": "nNsy9yRDueOB",
        "outputId": "4b6bbf8f-e39e-4bfe-b207-e9eb62a2123c"
      },
      "execution_count": null,
      "outputs": [
        {
          "output_type": "execute_result",
          "data": {
            "text/plain": [
              "[5, 5.7, 'saúde']"
            ]
          },
          "metadata": {},
          "execution_count": 29
        }
      ]
    },
    {
      "cell_type": "code",
      "source": [
        "dicionario"
      ],
      "metadata": {
        "colab": {
          "base_uri": "https://localhost:8080/"
        },
        "id": "OLLYT81Xuidp",
        "outputId": "d78e4cc6-18f7-4d1b-f029-78fc60395e7f"
      },
      "execution_count": null,
      "outputs": [
        {
          "output_type": "execute_result",
          "data": {
            "text/plain": [
              "{'disciplina': 'IA', 'nota': 10}"
            ]
          },
          "metadata": {},
          "execution_count": 30
        }
      ]
    },
    {
      "cell_type": "code",
      "source": [
        "type(inteiro)"
      ],
      "metadata": {
        "colab": {
          "base_uri": "https://localhost:8080/",
          "height": 0
        },
        "id": "5dmOA3ubhIgr",
        "outputId": "13c30b3b-f9e2-49d4-c1dc-d6241f74d6a0"
      },
      "execution_count": 2,
      "outputs": [
        {
          "output_type": "execute_result",
          "data": {
            "text/plain": [
              "int"
            ]
          },
          "metadata": {},
          "execution_count": 2
        }
      ]
    },
    {
      "cell_type": "code",
      "source": [
        "type(float1)"
      ],
      "metadata": {
        "colab": {
          "base_uri": "https://localhost:8080/",
          "height": 0
        },
        "id": "DuZw6aqahMTz",
        "outputId": "9807b541-f2c5-48e5-951e-664ce916fbb3"
      },
      "execution_count": 3,
      "outputs": [
        {
          "output_type": "execute_result",
          "data": {
            "text/plain": [
              "float"
            ]
          },
          "metadata": {},
          "execution_count": 3
        }
      ]
    },
    {
      "cell_type": "code",
      "source": [
        "type(str2)"
      ],
      "metadata": {
        "colab": {
          "base_uri": "https://localhost:8080/",
          "height": 0
        },
        "id": "4HvWjsozhPD7",
        "outputId": "5bfa853e-294d-4b16-fc74-6aa4b5b5cda6"
      },
      "execution_count": 4,
      "outputs": [
        {
          "output_type": "execute_result",
          "data": {
            "text/plain": [
              "str"
            ]
          },
          "metadata": {},
          "execution_count": 4
        }
      ]
    },
    {
      "cell_type": "code",
      "source": [
        "type(lista)"
      ],
      "metadata": {
        "colab": {
          "base_uri": "https://localhost:8080/",
          "height": 0
        },
        "id": "ZNAr2W9MhSUT",
        "outputId": "15138eb1-08c9-4e56-f3b2-b0c7350bf522"
      },
      "execution_count": 5,
      "outputs": [
        {
          "output_type": "execute_result",
          "data": {
            "text/plain": [
              "list"
            ]
          },
          "metadata": {},
          "execution_count": 5
        }
      ]
    },
    {
      "cell_type": "code",
      "source": [
        "type(dicionario)"
      ],
      "metadata": {
        "colab": {
          "base_uri": "https://localhost:8080/",
          "height": 0
        },
        "id": "SlGvLy-shUOT",
        "outputId": "0c1b4bc2-01a2-4c8d-fcc9-45f0bfe0dcbf"
      },
      "execution_count": 6,
      "outputs": [
        {
          "output_type": "execute_result",
          "data": {
            "text/plain": [
              "dict"
            ]
          },
          "metadata": {},
          "execution_count": 6
        }
      ]
    },
    {
      "cell_type": "markdown",
      "source": [
        "### A linguagem Python é de tipagem dinâmica, ou seja, não precisamos declarar a variável como de um tipo específico, sendo determinada automaticamente pelo valor atribuído a ela."
      ],
      "metadata": {
        "id": "BJE5Ioxfuo9R"
      }
    },
    {
      "cell_type": "code",
      "source": [
        "idade = 20\n",
        "print(idade)"
      ],
      "metadata": {
        "colab": {
          "base_uri": "https://localhost:8080/"
        },
        "id": "LzdQcv3huoUx",
        "outputId": "36578d54-5118-48df-c124-ded9a8f214d3"
      },
      "execution_count": null,
      "outputs": [
        {
          "output_type": "stream",
          "name": "stdout",
          "text": [
            "20\n"
          ]
        }
      ]
    },
    {
      "cell_type": "code",
      "source": [
        "idade = 20.5\n",
        "print(idade)"
      ],
      "metadata": {
        "colab": {
          "base_uri": "https://localhost:8080/"
        },
        "id": "Vk1Y08GXvJTp",
        "outputId": "d1a073a6-da06-4cbc-b9c9-81b2263bbe91"
      },
      "execution_count": null,
      "outputs": [
        {
          "output_type": "stream",
          "name": "stdout",
          "text": [
            "20.5\n"
          ]
        }
      ]
    },
    {
      "cell_type": "code",
      "source": [
        "idade = 'vinte'\n",
        "print(idade)"
      ],
      "metadata": {
        "colab": {
          "base_uri": "https://localhost:8080/"
        },
        "id": "RxlSU7JUvMo5",
        "outputId": "c9c20a4e-b090-4501-8f30-105453e101cd"
      },
      "execution_count": null,
      "outputs": [
        {
          "output_type": "stream",
          "name": "stdout",
          "text": [
            "vinte\n"
          ]
        }
      ]
    },
    {
      "cell_type": "markdown",
      "source": [
        "## **Em aprendizado de máquina e inteligência artificial, utilizamos bibliotecas da linguagem Python que contém pacotes importantes para executarmos as tarefas.**\n",
        "### O que é uma biblioteca em Python?\n",
        "#### R.: é uma ferramenta de facilitação para utilização em desenvolvimento de software, uma vez que foi construída para que os desenvolvedores não precisem construí-las do zero. Existem diversas bibliotecas com muitas funções diferentes implementadas, por exemplo:\n",
        "- para computação numérica: biblioteca NumPy;\n",
        "- para análise estatística: biblioteca StatsModel;\n",
        "- para análise de dados: bilbioteca Pandas;\n",
        "- para visualização de gráficos: bibliotecas Matplotlib e Seaborn;\n",
        "- para aprendizado de máquina: biblioteca Scikit-learn\n",
        "- para aprendizado profundo (deep learning) e redes neurais artificiais: biblioteca TensorFlow;\n",
        "- para processamento de linguagem natural: biblioteca NKLT.\n",
        "Dentre muitas outras, estes são somente alguns exemplos."
      ],
      "metadata": {
        "id": "FcCmaqeYdjCw"
      }
    },
    {
      "cell_type": "markdown",
      "source": [
        "### Podemos também calcular a média utilizando uma biblioteca, o NumPy.\n",
        "Primeiro, vamos importar a biblioteca NumPy. Em seguida, vamos chamar uma das funções desta biblioteca, a função mean.\n",
        "Reparem que os nomes das funções são seguidos de parênteses, como em mean().\n",
        "Isto ocorre para que possamos passar os argumentos (informações) necessárias para que a função seja executada. No exemplo abaixo, chamamos a função mean() da biblioteca numpy (np) para executar uma tarefa (no caso, o cálculo da média, na variável notas)."
      ],
      "metadata": {
        "id": "rRrzFpGqjw7b"
      }
    },
    {
      "cell_type": "code",
      "source": [
        "notas = [nota1, nota2, nota3]\n",
        "media2 = np.mean(notas)\n",
        "\n",
        "print('A média calculada é: {}'.format(media2))"
      ],
      "metadata": {
        "colab": {
          "base_uri": "https://localhost:8080/"
        },
        "id": "-Cf2EEaikxiQ",
        "outputId": "e8065e5d-8765-421a-93c1-03af87a371cd"
      },
      "execution_count": null,
      "outputs": [
        {
          "output_type": "stream",
          "name": "stdout",
          "text": [
            "A média calculada é: 5.666666666666667\n"
          ]
        }
      ]
    },
    {
      "cell_type": "markdown",
      "source": [
        "### **Mas afinal, o que são funções em Python?**\n",
        "R.: Funções são blocos de código desenvolvidos para a execução de uma tarefa em particular.\n",
        "Como escrever uma função em Python?"
      ],
      "metadata": {
        "id": "zwQTFb2CmBJM"
      }
    },
    {
      "cell_type": "code",
      "source": [
        "def nome_da_funcao(argumento1, argumento2):\n",
        "    # Corpo da função\n",
        "    # Realiza ações\n",
        "    return valor_de_retorno\n"
      ],
      "metadata": {
        "id": "KmRtgte7m0zu"
      },
      "execution_count": null,
      "outputs": []
    },
    {
      "cell_type": "markdown",
      "source": [
        "No exemplo acima, temos a sintaxe (regras e estrutura) de uma função em Python.\n",
        "1. **def**: É a palavra-chave usada para definir uma função;\n",
        "2. **nome_da_funcao**: É o nome que você escolhe para a função;\n",
        "3. **(argumento1, argumento2, ...)**: São os argumentos que a função recebe. Eles são opcionais;\n",
        "4. **:** : Indica o início do bloco de código da função."
      ],
      "metadata": {
        "id": "2shzugLZm9F-"
      }
    },
    {
      "cell_type": "markdown",
      "source": [
        "**Exercício 01**:\n",
        "**Escreva uma função que retorna uma frase de boas-vindas a disciplina de IA aplicada a saúde, utilizando 'nome' como argumento**"
      ],
      "metadata": {
        "id": "SmzKTsT1o_Y1"
      }
    },
    {
      "cell_type": "code",
      "source": [
        "def boas_vindas(nome):\n",
        "  return f'Boas-vindas a disciplina de Inteligência Artificial aplicada a Saúde, {nome}!'"
      ],
      "metadata": {
        "id": "ao4ykizPpYGN"
      },
      "execution_count": null,
      "outputs": []
    },
    {
      "cell_type": "code",
      "source": [
        "bemvindo = boas_vindas('Pedro')\n",
        "print(bemvindo)"
      ],
      "metadata": {
        "colab": {
          "base_uri": "https://localhost:8080/"
        },
        "id": "EMU--grcp_jc",
        "outputId": "9d248dbd-b889-4525-c139-0ebafe7b76fa"
      },
      "execution_count": null,
      "outputs": [
        {
          "output_type": "stream",
          "name": "stdout",
          "text": [
            "Boas-vindas a disciplina de Inteligência Artificial aplicada a Saúde, Pedro!\n"
          ]
        }
      ]
    },
    {
      "cell_type": "markdown",
      "source": [
        "## **Apresentação do trabalho a ser desenvolvido!**\n",
        "### Inicialmente, vamos carregar a base de dados pública obtida através da biblioteca sklearn."
      ],
      "metadata": {
        "id": "PBceuyQDbycS"
      }
    },
    {
      "cell_type": "code",
      "source": [
        "# importa a biblioteca\n",
        "from sklearn.datasets import load_diabetes\n",
        "# carrega a base de dados\n",
        "diabetes = load_diabetes()\n",
        "X, y = diabetes.data, diabetes.target\n",
        "# obtém uma descrição da base de dados\n",
        "print(diabetes.DESCR)"
      ],
      "metadata": {
        "colab": {
          "base_uri": "https://localhost:8080/"
        },
        "id": "OpXUE6zUb_OH",
        "outputId": "9b6dcf6e-c76d-46f3-c574-321404ac2e06"
      },
      "execution_count": null,
      "outputs": [
        {
          "output_type": "stream",
          "name": "stdout",
          "text": [
            ".. _diabetes_dataset:\n",
            "\n",
            "Diabetes dataset\n",
            "----------------\n",
            "\n",
            "Ten baseline variables, age, sex, body mass index, average blood\n",
            "pressure, and six blood serum measurements were obtained for each of n =\n",
            "442 diabetes patients, as well as the response of interest, a\n",
            "quantitative measure of disease progression one year after baseline.\n",
            "\n",
            "**Data Set Characteristics:**\n",
            "\n",
            "  :Number of Instances: 442\n",
            "\n",
            "  :Number of Attributes: First 10 columns are numeric predictive values\n",
            "\n",
            "  :Target: Column 11 is a quantitative measure of disease progression one year after baseline\n",
            "\n",
            "  :Attribute Information:\n",
            "      - age     age in years\n",
            "      - sex\n",
            "      - bmi     body mass index\n",
            "      - bp      average blood pressure\n",
            "      - s1      tc, total serum cholesterol\n",
            "      - s2      ldl, low-density lipoproteins\n",
            "      - s3      hdl, high-density lipoproteins\n",
            "      - s4      tch, total cholesterol / HDL\n",
            "      - s5      ltg, possibly log of serum triglycerides level\n",
            "      - s6      glu, blood sugar level\n",
            "\n",
            "Note: Each of these 10 feature variables have been mean centered and scaled by the standard deviation times the square root of `n_samples` (i.e. the sum of squares of each column totals 1).\n",
            "\n",
            "Source URL:\n",
            "https://www4.stat.ncsu.edu/~boos/var.select/diabetes.html\n",
            "\n",
            "For more information see:\n",
            "Bradley Efron, Trevor Hastie, Iain Johnstone and Robert Tibshirani (2004) \"Least Angle Regression,\" Annals of Statistics (with discussion), 407-499.\n",
            "(https://web.stanford.edu/~hastie/Papers/LARS/LeastAngle_2002.pdf)\n",
            "\n"
          ]
        }
      ]
    },
    {
      "cell_type": "markdown",
      "source": [
        "## Essa é uma base de dados de diabetes.\n",
        "Por meio dela, executaremos a maior parte das tarefas de aprendizado de máquina que veremos ao longo da disciplina.\n",
        "\n",
        "Até a próxima aula!\n",
        "\n",
        "\n",
        "FIM"
      ],
      "metadata": {
        "id": "_wnec6vUveCT"
      }
    }
  ]
}