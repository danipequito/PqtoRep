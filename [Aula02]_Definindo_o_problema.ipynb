{
  "nbformat": 4,
  "nbformat_minor": 0,
  "metadata": {
    "colab": {
      "provenance": [],
      "authorship_tag": "ABX9TyP0MLxrXV9+jpcyUo/XdveF",
      "include_colab_link": true
    },
    "kernelspec": {
      "name": "python3",
      "display_name": "Python 3"
    },
    "language_info": {
      "name": "python"
    }
  },
  "cells": [
    {
      "cell_type": "markdown",
      "metadata": {
        "id": "view-in-github",
        "colab_type": "text"
      },
      "source": [
        "<a href=\"https://colab.research.google.com/github/danipequito/PqtoRep/blob/main/%5BAula02%5D_Definindo_o_problema.ipynb\" target=\"_parent\"><img src=\"https://colab.research.google.com/assets/colab-badge.svg\" alt=\"Open In Colab\"/></a>"
      ]
    },
    {
      "cell_type": "markdown",
      "source": [
        "# **IA aplicada a saúde - Aula 02**\n",
        "Nesta aula iremos baixar a base de dados que usaremos durante o semestre."
      ],
      "metadata": {
        "id": "udFgAltmY3GF"
      }
    },
    {
      "cell_type": "markdown",
      "source": [
        "## **Definição do problema**\n",
        "Utilizaremos a base de dados: *SRAG 2021 a 2023 - Banco de Dados de Síndrome Respiratória Aguda Grave - incluindo dados da COVID-19* que está disponível, publicamente, no seguinte endereço eletrônico:\n",
        "https://opendatasus.saude.gov.br/dataset/srag-2021-a-2023\n",
        "\n",
        "1. O objetivo do estudo é a criação de modelos de aprendizado de máquina para previsões, utilizando os algoritmos que estudaremos ao longo do semestre.\n",
        "2. Para isso, realizaremos algumas tarefas:\n",
        " - **Análise exploratória** da base de dados: entendendo as informações disponíveis nos dados;\n",
        " - **Pré-processamento** da base de dados: preparando a base de dados para as tarefas de aprendizado de máquina;\n",
        " - **Construindo modelos** de aprendizado de máquina."
      ],
      "metadata": {
        "id": "3qf2HH6kZO1d"
      }
    },
    {
      "cell_type": "markdown",
      "source": [
        "## O que precisamos saber sobre a base que será utilizada?\n",
        "O Ministério da Saúde (MS), por meio da Secretaria de Vigilância em Saúde (SVS), desenvolve a vigilância da Síndrome Respiratória Aguda Grave (SRAG) no Brasil, desde a pandemia de Influenza A(H1N1)pdm09. A partir disso, a vigilância de SRAG foi implantada na rede de vigilância de Influenza e outros vírus respiratórios, que anteriormente atuava exclusivamente com a vigilância sentinela de Síndrome Gripal (SG).\n",
        "\n",
        "Em 2020, a vigilância da COVID-19, a infecção humana causada pelo novo Coronavírus, que vem causando uma pandemia, foi incorporada na rede de vigilância da Influenza e outros vírus respiratórios.\n",
        "\n",
        "Esta página tem como finalidade disponibilizar o legado dos bancos de dados (BD) epidemiológicos de SRAG, da rede de vigilância da Influenza e outros vírus respiratórios, desde o início da sua implantação (2009) até os dias atuais (2023), com a incorporação da vigilância da covid-19. Atualmente, o sistema oficial para o registro dos casos e óbitos por SRAG é o Sistema de Informação da Vigilância Epidemiológica da Gripe (SIVEP-Gripe).\n",
        "\n",
        "O MS publicou o Guia de Vigilância Epidemiológica Emergência de Saúde Pública de Importância Nacional pela Doença pelo Coronavírus 2019 aonde estão disponíveis informações sobre definições de casos, critérios de confirmação e encerramento dos casos, dentre outros.\n",
        "\n",
        "Ressaltamos que os dados da vigilância de SRAG no Brasil disponibilizados nesta página, estão sujeitos a alterações decorrentes da investigação, ou mesmo correções de erros de digitação, pelas equipes de vigilância epidemiológica que desenvolvem o serviço nas três esferas de gestão.\n",
        "\n",
        "Esclarece-se que as bases de dados de SRAG disponibilizadas neste portal passam por tratamento que envolve a anonimização, em cumprimento a Lei 13.709/2018."
      ],
      "metadata": {
        "id": "AJunwWKTaqsL"
      }
    },
    {
      "cell_type": "code",
      "execution_count": 21,
      "metadata": {
        "id": "Qk7HIq1XFs49"
      },
      "outputs": [],
      "source": [
        "# importando os pacotes que serão utilizados\n",
        "import requests\n",
        "import pandas as pd\n",
        "import matplotlib.pyplot as plt"
      ]
    },
    {
      "cell_type": "code",
      "source": [
        "# definindo o endereço eletrônico de onde serão coletados os dados\n",
        "url = 'https://s3.sa-east-1.amazonaws.com/ckan.saude.gov.br/SRAG/2023/INFLUD23-31-07-2023.csv'"
      ],
      "metadata": {
        "id": "2Xf1h9hJIm3l"
      },
      "execution_count": 2,
      "outputs": []
    },
    {
      "cell_type": "code",
      "source": [
        "# baixando a base de dados diretamete do endereço eletrônico\n",
        "response = requests.get(url)"
      ],
      "metadata": {
        "id": "Jy0SDNHeIxQ5"
      },
      "execution_count": 3,
      "outputs": []
    },
    {
      "cell_type": "code",
      "source": [
        "# testando se a base foi baixada\n",
        "if response.status_code == 200:\n",
        "    # Continue o processo\n",
        "    pass\n",
        "else:\n",
        "    print(\"Falha ao baixar a base de dados.\")"
      ],
      "metadata": {
        "id": "QkVoiCMyI3Vm"
      },
      "execution_count": 4,
      "outputs": []
    },
    {
      "cell_type": "code",
      "source": [
        "# lendo a base de dados\n",
        "with open('Dados SRAG.csv', 'wb') as file:\n",
        "    file.write(response.content)"
      ],
      "metadata": {
        "id": "j4KJa794JdDz"
      },
      "execution_count": 6,
      "outputs": []
    },
    {
      "cell_type": "code",
      "source": [
        "# gerando o dataframe com a base de dados\n",
        "dados = pd.read_csv('Dados SRAG.csv', sep=';')\n",
        "dados.head()"
      ],
      "metadata": {
        "colab": {
          "base_uri": "https://localhost:8080/",
          "height": 595
        },
        "id": "GFGVxH5KJm2c",
        "outputId": "3d766626-30c8-4511-d3a9-28ef9d736c14"
      },
      "execution_count": 7,
      "outputs": [
        {
          "output_type": "stream",
          "name": "stderr",
          "text": [
            "<ipython-input-7-1a66266cb1c6>:2: DtypeWarning: Columns (15,61,62,63,91,93,120) have mixed types. Specify dtype option on import or set low_memory=False.\n",
            "  dados = pd.read_csv('Dados SRAG.csv', sep=';')\n"
          ]
        },
        {
          "output_type": "execute_result",
          "data": {
            "text/plain": [
              "   DT_NOTIFIC  SEM_NOT  DT_SIN_PRI  SEM_PRI SG_UF_NOT  \\\n",
              "0  01/01/2023        1  01/01/2023        1        AM   \n",
              "1  10/01/2023        2  06/01/2023        1        PR   \n",
              "2  24/01/2023        4  22/01/2023        4        DF   \n",
              "3  17/01/2023        3  15/01/2023        3        SP   \n",
              "4  01/02/2023        5  29/01/2023        5        PR   \n",
              "\n",
              "                      ID_REGIONA  CO_REGIONA ID_MUNICIP  CO_MUN_NOT  \\\n",
              "0  ENTORNO DE MANAUS E RIO NEGRO      5584.0     MANAUS      130260   \n",
              "1                  10RS CASCAVEL      1364.0   CASCAVEL      410480   \n",
              "2                            NaN         NaN   BRASILIA      530010   \n",
              "3                   GVE XV BAURU      1340.0        JAU      352530   \n",
              "4                  17RS LONDRINA      1371.0   ROLANDIA      412240   \n",
              "\n",
              "                                    ID_UNIDADE  ...  LOTE_2_COV LOTE_REF  \\\n",
              "0                              FUNDACAO HEMOAM  ...      210067      NaN   \n",
              "1                HOSPITAL POLICLINICA CASCAVEL  ...  214VCD081Z   FH4751   \n",
              "2  HOSPITAL MATERNO INFANTIL DR ANTONIO LISBOA  ...      FN5988      NaN   \n",
              "3                 HOSPITAL UNIMED REGIONAL JAU  ...      210037   210546   \n",
              "4                          HOSPITAL SAO RAFAEL  ...     ABX0530   FL1940   \n",
              "\n",
              "  FNT_IN_COV   DOSE_2REF                                      FAB_COVRF2  \\\n",
              "0          2         NaN                                             NaN   \n",
              "1          2  28/03/2022  85 - COVID-19 ASTRAZENECA/FIOCRUZ - COVISHIELD   \n",
              "2          2         NaN                                             NaN   \n",
              "3          2  26/05/2022      86 - COVID-19 SINOVAC/BUTANTAN - CORONAVAC   \n",
              "4          2  04/05/2022             88 - COVID-19 JANSSEN - AD26.COV2.S   \n",
              "\n",
              "    LOTE_REF2  TRAT_COV  TIPO_TRAT  OUT_TRAT DT_TRT_COV  \n",
              "0         NaN       2.0        NaN       NaN        NaN  \n",
              "1  21OVCD309W       2.0        NaN       NaN        NaN  \n",
              "2         NaN       2.0        NaN       NaN        NaN  \n",
              "3      210546       9.0        NaN       NaN        NaN  \n",
              "4     207H21A       NaN        NaN       NaN        NaN  \n",
              "\n",
              "[5 rows x 173 columns]"
            ],
            "text/html": [
              "\n",
              "\n",
              "  <div id=\"df-15223950-af62-456f-a27a-3b30acc81e49\">\n",
              "    <div class=\"colab-df-container\">\n",
              "      <div>\n",
              "<style scoped>\n",
              "    .dataframe tbody tr th:only-of-type {\n",
              "        vertical-align: middle;\n",
              "    }\n",
              "\n",
              "    .dataframe tbody tr th {\n",
              "        vertical-align: top;\n",
              "    }\n",
              "\n",
              "    .dataframe thead th {\n",
              "        text-align: right;\n",
              "    }\n",
              "</style>\n",
              "<table border=\"1\" class=\"dataframe\">\n",
              "  <thead>\n",
              "    <tr style=\"text-align: right;\">\n",
              "      <th></th>\n",
              "      <th>DT_NOTIFIC</th>\n",
              "      <th>SEM_NOT</th>\n",
              "      <th>DT_SIN_PRI</th>\n",
              "      <th>SEM_PRI</th>\n",
              "      <th>SG_UF_NOT</th>\n",
              "      <th>ID_REGIONA</th>\n",
              "      <th>CO_REGIONA</th>\n",
              "      <th>ID_MUNICIP</th>\n",
              "      <th>CO_MUN_NOT</th>\n",
              "      <th>ID_UNIDADE</th>\n",
              "      <th>...</th>\n",
              "      <th>LOTE_2_COV</th>\n",
              "      <th>LOTE_REF</th>\n",
              "      <th>FNT_IN_COV</th>\n",
              "      <th>DOSE_2REF</th>\n",
              "      <th>FAB_COVRF2</th>\n",
              "      <th>LOTE_REF2</th>\n",
              "      <th>TRAT_COV</th>\n",
              "      <th>TIPO_TRAT</th>\n",
              "      <th>OUT_TRAT</th>\n",
              "      <th>DT_TRT_COV</th>\n",
              "    </tr>\n",
              "  </thead>\n",
              "  <tbody>\n",
              "    <tr>\n",
              "      <th>0</th>\n",
              "      <td>01/01/2023</td>\n",
              "      <td>1</td>\n",
              "      <td>01/01/2023</td>\n",
              "      <td>1</td>\n",
              "      <td>AM</td>\n",
              "      <td>ENTORNO DE MANAUS E RIO NEGRO</td>\n",
              "      <td>5584.0</td>\n",
              "      <td>MANAUS</td>\n",
              "      <td>130260</td>\n",
              "      <td>FUNDACAO HEMOAM</td>\n",
              "      <td>...</td>\n",
              "      <td>210067</td>\n",
              "      <td>NaN</td>\n",
              "      <td>2</td>\n",
              "      <td>NaN</td>\n",
              "      <td>NaN</td>\n",
              "      <td>NaN</td>\n",
              "      <td>2.0</td>\n",
              "      <td>NaN</td>\n",
              "      <td>NaN</td>\n",
              "      <td>NaN</td>\n",
              "    </tr>\n",
              "    <tr>\n",
              "      <th>1</th>\n",
              "      <td>10/01/2023</td>\n",
              "      <td>2</td>\n",
              "      <td>06/01/2023</td>\n",
              "      <td>1</td>\n",
              "      <td>PR</td>\n",
              "      <td>10RS CASCAVEL</td>\n",
              "      <td>1364.0</td>\n",
              "      <td>CASCAVEL</td>\n",
              "      <td>410480</td>\n",
              "      <td>HOSPITAL POLICLINICA CASCAVEL</td>\n",
              "      <td>...</td>\n",
              "      <td>214VCD081Z</td>\n",
              "      <td>FH4751</td>\n",
              "      <td>2</td>\n",
              "      <td>28/03/2022</td>\n",
              "      <td>85 - COVID-19 ASTRAZENECA/FIOCRUZ - COVISHIELD</td>\n",
              "      <td>21OVCD309W</td>\n",
              "      <td>2.0</td>\n",
              "      <td>NaN</td>\n",
              "      <td>NaN</td>\n",
              "      <td>NaN</td>\n",
              "    </tr>\n",
              "    <tr>\n",
              "      <th>2</th>\n",
              "      <td>24/01/2023</td>\n",
              "      <td>4</td>\n",
              "      <td>22/01/2023</td>\n",
              "      <td>4</td>\n",
              "      <td>DF</td>\n",
              "      <td>NaN</td>\n",
              "      <td>NaN</td>\n",
              "      <td>BRASILIA</td>\n",
              "      <td>530010</td>\n",
              "      <td>HOSPITAL MATERNO INFANTIL DR ANTONIO LISBOA</td>\n",
              "      <td>...</td>\n",
              "      <td>FN5988</td>\n",
              "      <td>NaN</td>\n",
              "      <td>2</td>\n",
              "      <td>NaN</td>\n",
              "      <td>NaN</td>\n",
              "      <td>NaN</td>\n",
              "      <td>2.0</td>\n",
              "      <td>NaN</td>\n",
              "      <td>NaN</td>\n",
              "      <td>NaN</td>\n",
              "    </tr>\n",
              "    <tr>\n",
              "      <th>3</th>\n",
              "      <td>17/01/2023</td>\n",
              "      <td>3</td>\n",
              "      <td>15/01/2023</td>\n",
              "      <td>3</td>\n",
              "      <td>SP</td>\n",
              "      <td>GVE XV BAURU</td>\n",
              "      <td>1340.0</td>\n",
              "      <td>JAU</td>\n",
              "      <td>352530</td>\n",
              "      <td>HOSPITAL UNIMED REGIONAL JAU</td>\n",
              "      <td>...</td>\n",
              "      <td>210037</td>\n",
              "      <td>210546</td>\n",
              "      <td>2</td>\n",
              "      <td>26/05/2022</td>\n",
              "      <td>86 - COVID-19 SINOVAC/BUTANTAN - CORONAVAC</td>\n",
              "      <td>210546</td>\n",
              "      <td>9.0</td>\n",
              "      <td>NaN</td>\n",
              "      <td>NaN</td>\n",
              "      <td>NaN</td>\n",
              "    </tr>\n",
              "    <tr>\n",
              "      <th>4</th>\n",
              "      <td>01/02/2023</td>\n",
              "      <td>5</td>\n",
              "      <td>29/01/2023</td>\n",
              "      <td>5</td>\n",
              "      <td>PR</td>\n",
              "      <td>17RS LONDRINA</td>\n",
              "      <td>1371.0</td>\n",
              "      <td>ROLANDIA</td>\n",
              "      <td>412240</td>\n",
              "      <td>HOSPITAL SAO RAFAEL</td>\n",
              "      <td>...</td>\n",
              "      <td>ABX0530</td>\n",
              "      <td>FL1940</td>\n",
              "      <td>2</td>\n",
              "      <td>04/05/2022</td>\n",
              "      <td>88 - COVID-19 JANSSEN - AD26.COV2.S</td>\n",
              "      <td>207H21A</td>\n",
              "      <td>NaN</td>\n",
              "      <td>NaN</td>\n",
              "      <td>NaN</td>\n",
              "      <td>NaN</td>\n",
              "    </tr>\n",
              "  </tbody>\n",
              "</table>\n",
              "<p>5 rows × 173 columns</p>\n",
              "</div>\n",
              "      <button class=\"colab-df-convert\" onclick=\"convertToInteractive('df-15223950-af62-456f-a27a-3b30acc81e49')\"\n",
              "              title=\"Convert this dataframe to an interactive table.\"\n",
              "              style=\"display:none;\">\n",
              "\n",
              "  <svg xmlns=\"http://www.w3.org/2000/svg\" height=\"24px\"viewBox=\"0 0 24 24\"\n",
              "       width=\"24px\">\n",
              "    <path d=\"M0 0h24v24H0V0z\" fill=\"none\"/>\n",
              "    <path d=\"M18.56 5.44l.94 2.06.94-2.06 2.06-.94-2.06-.94-.94-2.06-.94 2.06-2.06.94zm-11 1L8.5 8.5l.94-2.06 2.06-.94-2.06-.94L8.5 2.5l-.94 2.06-2.06.94zm10 10l.94 2.06.94-2.06 2.06-.94-2.06-.94-.94-2.06-.94 2.06-2.06.94z\"/><path d=\"M17.41 7.96l-1.37-1.37c-.4-.4-.92-.59-1.43-.59-.52 0-1.04.2-1.43.59L10.3 9.45l-7.72 7.72c-.78.78-.78 2.05 0 2.83L4 21.41c.39.39.9.59 1.41.59.51 0 1.02-.2 1.41-.59l7.78-7.78 2.81-2.81c.8-.78.8-2.07 0-2.86zM5.41 20L4 18.59l7.72-7.72 1.47 1.35L5.41 20z\"/>\n",
              "  </svg>\n",
              "      </button>\n",
              "\n",
              "\n",
              "\n",
              "    <div id=\"df-d1dc9ddb-d9a8-4041-9f0c-ecc8b7a3a904\">\n",
              "      <button class=\"colab-df-quickchart\" onclick=\"quickchart('df-d1dc9ddb-d9a8-4041-9f0c-ecc8b7a3a904')\"\n",
              "              title=\"Suggest charts.\"\n",
              "              style=\"display:none;\">\n",
              "\n",
              "<svg xmlns=\"http://www.w3.org/2000/svg\" height=\"24px\"viewBox=\"0 0 24 24\"\n",
              "     width=\"24px\">\n",
              "    <g>\n",
              "        <path d=\"M19 3H5c-1.1 0-2 .9-2 2v14c0 1.1.9 2 2 2h14c1.1 0 2-.9 2-2V5c0-1.1-.9-2-2-2zM9 17H7v-7h2v7zm4 0h-2V7h2v10zm4 0h-2v-4h2v4z\"/>\n",
              "    </g>\n",
              "</svg>\n",
              "      </button>\n",
              "    </div>\n",
              "\n",
              "<style>\n",
              "  .colab-df-quickchart {\n",
              "    background-color: #E8F0FE;\n",
              "    border: none;\n",
              "    border-radius: 50%;\n",
              "    cursor: pointer;\n",
              "    display: none;\n",
              "    fill: #1967D2;\n",
              "    height: 32px;\n",
              "    padding: 0 0 0 0;\n",
              "    width: 32px;\n",
              "  }\n",
              "\n",
              "  .colab-df-quickchart:hover {\n",
              "    background-color: #E2EBFA;\n",
              "    box-shadow: 0px 1px 2px rgba(60, 64, 67, 0.3), 0px 1px 3px 1px rgba(60, 64, 67, 0.15);\n",
              "    fill: #174EA6;\n",
              "  }\n",
              "\n",
              "  [theme=dark] .colab-df-quickchart {\n",
              "    background-color: #3B4455;\n",
              "    fill: #D2E3FC;\n",
              "  }\n",
              "\n",
              "  [theme=dark] .colab-df-quickchart:hover {\n",
              "    background-color: #434B5C;\n",
              "    box-shadow: 0px 1px 3px 1px rgba(0, 0, 0, 0.15);\n",
              "    filter: drop-shadow(0px 1px 2px rgba(0, 0, 0, 0.3));\n",
              "    fill: #FFFFFF;\n",
              "  }\n",
              "</style>\n",
              "\n",
              "    <script>\n",
              "      async function quickchart(key) {\n",
              "        const containerElement = document.querySelector('#' + key);\n",
              "        const charts = await google.colab.kernel.invokeFunction(\n",
              "            'suggestCharts', [key], {});\n",
              "      }\n",
              "    </script>\n",
              "\n",
              "      <script>\n",
              "\n",
              "function displayQuickchartButton(domScope) {\n",
              "  let quickchartButtonEl =\n",
              "    domScope.querySelector('#df-d1dc9ddb-d9a8-4041-9f0c-ecc8b7a3a904 button.colab-df-quickchart');\n",
              "  quickchartButtonEl.style.display =\n",
              "    google.colab.kernel.accessAllowed ? 'block' : 'none';\n",
              "}\n",
              "\n",
              "        displayQuickchartButton(document);\n",
              "      </script>\n",
              "      <style>\n",
              "    .colab-df-container {\n",
              "      display:flex;\n",
              "      flex-wrap:wrap;\n",
              "      gap: 12px;\n",
              "    }\n",
              "\n",
              "    .colab-df-convert {\n",
              "      background-color: #E8F0FE;\n",
              "      border: none;\n",
              "      border-radius: 50%;\n",
              "      cursor: pointer;\n",
              "      display: none;\n",
              "      fill: #1967D2;\n",
              "      height: 32px;\n",
              "      padding: 0 0 0 0;\n",
              "      width: 32px;\n",
              "    }\n",
              "\n",
              "    .colab-df-convert:hover {\n",
              "      background-color: #E2EBFA;\n",
              "      box-shadow: 0px 1px 2px rgba(60, 64, 67, 0.3), 0px 1px 3px 1px rgba(60, 64, 67, 0.15);\n",
              "      fill: #174EA6;\n",
              "    }\n",
              "\n",
              "    [theme=dark] .colab-df-convert {\n",
              "      background-color: #3B4455;\n",
              "      fill: #D2E3FC;\n",
              "    }\n",
              "\n",
              "    [theme=dark] .colab-df-convert:hover {\n",
              "      background-color: #434B5C;\n",
              "      box-shadow: 0px 1px 3px 1px rgba(0, 0, 0, 0.15);\n",
              "      filter: drop-shadow(0px 1px 2px rgba(0, 0, 0, 0.3));\n",
              "      fill: #FFFFFF;\n",
              "    }\n",
              "  </style>\n",
              "\n",
              "      <script>\n",
              "        const buttonEl =\n",
              "          document.querySelector('#df-15223950-af62-456f-a27a-3b30acc81e49 button.colab-df-convert');\n",
              "        buttonEl.style.display =\n",
              "          google.colab.kernel.accessAllowed ? 'block' : 'none';\n",
              "\n",
              "        async function convertToInteractive(key) {\n",
              "          const element = document.querySelector('#df-15223950-af62-456f-a27a-3b30acc81e49');\n",
              "          const dataTable =\n",
              "            await google.colab.kernel.invokeFunction('convertToInteractive',\n",
              "                                                     [key], {});\n",
              "          if (!dataTable) return;\n",
              "\n",
              "          const docLinkHtml = 'Like what you see? Visit the ' +\n",
              "            '<a target=\"_blank\" href=https://colab.research.google.com/notebooks/data_table.ipynb>data table notebook</a>'\n",
              "            + ' to learn more about interactive tables.';\n",
              "          element.innerHTML = '';\n",
              "          dataTable['output_type'] = 'display_data';\n",
              "          await google.colab.output.renderOutput(dataTable, element);\n",
              "          const docLink = document.createElement('div');\n",
              "          docLink.innerHTML = docLinkHtml;\n",
              "          element.appendChild(docLink);\n",
              "        }\n",
              "      </script>\n",
              "    </div>\n",
              "  </div>\n"
            ]
          },
          "metadata": {},
          "execution_count": 7
        }
      ]
    },
    {
      "cell_type": "code",
      "source": [
        "# quais são as dimensões do dataframe?\n",
        "linhas = dados.shape[0]\n",
        "colunas = dados.shape[1]\n",
        "print('Os dados contém {} pacientes e {} variáveis'.format(linhas, colunas))"
      ],
      "metadata": {
        "colab": {
          "base_uri": "https://localhost:8080/"
        },
        "id": "fabcyIAyLU4Z",
        "outputId": "6e679302-ce3e-4117-9f03-3a913b2b2334"
      },
      "execution_count": 9,
      "outputs": [
        {
          "output_type": "stream",
          "name": "stdout",
          "text": [
            "Os dados contém 178431 pacientes e 173 variáveis\n"
          ]
        }
      ]
    },
    {
      "cell_type": "code",
      "source": [
        "# obtendo informações sobre os dados\n",
        "print(dados.info)"
      ],
      "metadata": {
        "colab": {
          "base_uri": "https://localhost:8080/"
        },
        "id": "-33BUvjIrWfC",
        "outputId": "b6978c5d-4ff9-4f75-d7f1-2ceec64b2522"
      },
      "execution_count": 12,
      "outputs": [
        {
          "output_type": "stream",
          "name": "stdout",
          "text": [
            "<bound method DataFrame.info of         DT_NOTIFIC  SEM_NOT  DT_SIN_PRI  SEM_PRI SG_UF_NOT  \\\n",
            "0       01/01/2023        1  01/01/2023        1        AM   \n",
            "1       10/01/2023        2  06/01/2023        1        PR   \n",
            "2       24/01/2023        4  22/01/2023        4        DF   \n",
            "3       17/01/2023        3  15/01/2023        3        SP   \n",
            "4       01/02/2023        5  29/01/2023        5        PR   \n",
            "...            ...      ...         ...      ...       ...   \n",
            "178426  19/07/2023       29  16/07/2023       29        MS   \n",
            "178427  20/07/2023       29  06/07/2023       27        MS   \n",
            "178428  19/07/2023       29  17/07/2023       29        BA   \n",
            "178429  03/07/2023       27  27/06/2023       26        MA   \n",
            "178430  03/07/2023       27  25/06/2023       26        PA   \n",
            "\n",
            "                               ID_REGIONA  CO_REGIONA            ID_MUNICIP  \\\n",
            "0           ENTORNO DE MANAUS E RIO NEGRO      5584.0                MANAUS   \n",
            "1                           10RS CASCAVEL      1364.0              CASCAVEL   \n",
            "2                                     NaN         NaN              BRASILIA   \n",
            "3                            GVE XV BAURU      1340.0                   JAU   \n",
            "4                           17RS LONDRINA      1371.0              ROLANDIA   \n",
            "...                                   ...         ...                   ...   \n",
            "178426                  EX NRS DE CORUMBA      6256.0               CORUMBA   \n",
            "178427             EX ARS DE CAMPO GRANDE      1975.0          CAMPO GRANDE   \n",
            "178428  NUCLEO REGIONAL DE SAUDE SUDOESTE      1398.0  VITORIA DA CONQUISTA   \n",
            "178429    REGI0NAL DE SAUDE METROPOLITANA      1430.0              SAO LUIS   \n",
            "178430     08 REGIONAL DE PROTECAO SOCIAL      1491.0                BREVES   \n",
            "\n",
            "        CO_MUN_NOT                                        ID_UNIDADE  ...  \\\n",
            "0           130260                                   FUNDACAO HEMOAM  ...   \n",
            "1           410480                     HOSPITAL POLICLINICA CASCAVEL  ...   \n",
            "2           530010       HOSPITAL MATERNO INFANTIL DR ANTONIO LISBOA  ...   \n",
            "3           352530                      HOSPITAL UNIMED REGIONAL JAU  ...   \n",
            "4           412240                               HOSPITAL SAO RAFAEL  ...   \n",
            "...            ...                                               ...  ...   \n",
            "178426      500320  PRONTO SOCORRO MUNICIPAL DR ROGERIO TAKAKI BENTO  ...   \n",
            "178427      500270           HOSPITAL REGIONAL DE MATO GROSSO DO SUL  ...   \n",
            "178428      293330                     HOSPITAL MUNICIPAL ESAU MATOS  ...   \n",
            "178429      211130                                  HOSPITAL DA ILHA  ...   \n",
            "178430      150180          UNIDADE DE PRONTO ATENDIMENTO UPA BREVES  ...   \n",
            "\n",
            "        LOTE_2_COV LOTE_REF FNT_IN_COV   DOSE_2REF  \\\n",
            "0           210067      NaN          2         NaN   \n",
            "1       214VCD081Z   FH4751          2  28/03/2022   \n",
            "2           FN5988      NaN          2         NaN   \n",
            "3           210037   210546          2  26/05/2022   \n",
            "4          ABX0530   FL1940          2  04/05/2022   \n",
            "...            ...      ...        ...         ...   \n",
            "178426      210040   FG3529          2         NaN   \n",
            "178427      FM3355      NaN          2         NaN   \n",
            "178428         NaN      NaN          2         NaN   \n",
            "178429         NaN      NaN          2         NaN   \n",
            "178430         NaN      NaN          1         NaN   \n",
            "\n",
            "                                            FAB_COVRF2   LOTE_REF2  TRAT_COV  \\\n",
            "0                                                  NaN         NaN       2.0   \n",
            "1       85 - COVID-19 ASTRAZENECA/FIOCRUZ - COVISHIELD  21OVCD309W       2.0   \n",
            "2                                                  NaN         NaN       2.0   \n",
            "3           86 - COVID-19 SINOVAC/BUTANTAN - CORONAVAC      210546       9.0   \n",
            "4                  88 - COVID-19 JANSSEN - AD26.COV2.S     207H21A       NaN   \n",
            "...                                                ...         ...       ...   \n",
            "178426                                             NaN         NaN       2.0   \n",
            "178427                                             NaN         NaN       2.0   \n",
            "178428                                             NaN         NaN       2.0   \n",
            "178429                                             NaN         NaN       2.0   \n",
            "178430                                             NaN         NaN       2.0   \n",
            "\n",
            "        TIPO_TRAT  OUT_TRAT DT_TRT_COV  \n",
            "0             NaN       NaN        NaN  \n",
            "1             NaN       NaN        NaN  \n",
            "2             NaN       NaN        NaN  \n",
            "3             NaN       NaN        NaN  \n",
            "4             NaN       NaN        NaN  \n",
            "...           ...       ...        ...  \n",
            "178426        NaN       NaN        NaN  \n",
            "178427        NaN       NaN        NaN  \n",
            "178428        NaN       NaN        NaN  \n",
            "178429        NaN       NaN        NaN  \n",
            "178430        NaN       NaN        NaN  \n",
            "\n",
            "[178431 rows x 173 columns]>\n"
          ]
        }
      ]
    },
    {
      "cell_type": "code",
      "source": [
        "# verificando os tipos de dados\n",
        "dados.dtypes"
      ],
      "metadata": {
        "colab": {
          "base_uri": "https://localhost:8080/"
        },
        "id": "FtlJyc3frntI",
        "outputId": "1291f206-b1d1-400b-c56a-bf4d271e662e"
      },
      "execution_count": 15,
      "outputs": [
        {
          "output_type": "execute_result",
          "data": {
            "text/plain": [
              "DT_NOTIFIC     object\n",
              "SEM_NOT         int64\n",
              "DT_SIN_PRI     object\n",
              "SEM_PRI         int64\n",
              "SG_UF_NOT      object\n",
              "               ...   \n",
              "LOTE_REF2      object\n",
              "TRAT_COV      float64\n",
              "TIPO_TRAT     float64\n",
              "OUT_TRAT       object\n",
              "DT_TRT_COV    float64\n",
              "Length: 173, dtype: object"
            ]
          },
          "metadata": {},
          "execution_count": 15
        }
      ]
    },
    {
      "cell_type": "code",
      "source": [
        "# verificando as colunas do dataframe\n",
        "dados.columns"
      ],
      "metadata": {
        "colab": {
          "base_uri": "https://localhost:8080/"
        },
        "id": "oPDGMbUkr96B",
        "outputId": "705dc0fb-b33a-4b57-d607-54c627f1cfc1"
      },
      "execution_count": 16,
      "outputs": [
        {
          "output_type": "execute_result",
          "data": {
            "text/plain": [
              "Index(['DT_NOTIFIC', 'SEM_NOT', 'DT_SIN_PRI', 'SEM_PRI', 'SG_UF_NOT',\n",
              "       'ID_REGIONA', 'CO_REGIONA', 'ID_MUNICIP', 'CO_MUN_NOT', 'ID_UNIDADE',\n",
              "       ...\n",
              "       'LOTE_2_COV', 'LOTE_REF', 'FNT_IN_COV', 'DOSE_2REF', 'FAB_COVRF2',\n",
              "       'LOTE_REF2', 'TRAT_COV', 'TIPO_TRAT', 'OUT_TRAT', 'DT_TRT_COV'],\n",
              "      dtype='object', length=173)"
            ]
          },
          "metadata": {},
          "execution_count": 16
        }
      ]
    },
    {
      "cell_type": "code",
      "source": [
        "# Lista de todas as colunas\n",
        "colunas = dados.columns.tolist()\n",
        "\n",
        "# Dividir a lista de colunas em grupos para melhor visualização\n",
        "num_colunas_por_grupo = 10  # Número de colunas por grupo\n",
        "grupos_de_colunas = [colunas[i:i + num_colunas_por_grupo] for i in range(0, len(colunas), num_colunas_por_grupo)]\n",
        "\n",
        "# Imprimir as colunas por grupo\n",
        "for grupo in grupos_de_colunas:\n",
        "    print(grupo)"
      ],
      "metadata": {
        "colab": {
          "base_uri": "https://localhost:8080/"
        },
        "id": "Y9L0LMnosNVw",
        "outputId": "3fb2fc2d-81f3-465b-abe6-3ec9076e1dfa"
      },
      "execution_count": 18,
      "outputs": [
        {
          "output_type": "stream",
          "name": "stdout",
          "text": [
            "['DT_NOTIFIC', 'SEM_NOT', 'DT_SIN_PRI', 'SEM_PRI', 'SG_UF_NOT', 'ID_REGIONA', 'CO_REGIONA', 'ID_MUNICIP', 'CO_MUN_NOT', 'ID_UNIDADE']\n",
            "['CO_UNI_NOT', 'CS_SEXO', 'DT_NASC', 'NU_IDADE_N', 'TP_IDADE', 'COD_IDADE', 'CS_GESTANT', 'CS_RACA', 'CS_ESCOL_N', 'ID_PAIS']\n",
            "['CO_PAIS', 'SG_UF', 'ID_RG_RESI', 'CO_RG_RESI', 'ID_MN_RESI', 'CO_MUN_RES', 'CS_ZONA', 'SURTO_SG', 'NOSOCOMIAL', 'AVE_SUINO']\n",
            "['FEBRE', 'TOSSE', 'GARGANTA', 'DISPNEIA', 'DESC_RESP', 'SATURACAO', 'DIARREIA', 'VOMITO', 'OUTRO_SIN', 'OUTRO_DES']\n",
            "['PUERPERA', 'FATOR_RISC', 'CARDIOPATI', 'HEMATOLOGI', 'SIND_DOWN', 'HEPATICA', 'ASMA', 'DIABETES', 'NEUROLOGIC', 'PNEUMOPATI']\n",
            "['IMUNODEPRE', 'RENAL', 'OBESIDADE', 'OBES_IMC', 'OUT_MORBI', 'MORB_DESC', 'VACINA', 'DT_UT_DOSE', 'MAE_VAC', 'DT_VAC_MAE']\n",
            "['M_AMAMENTA', 'DT_DOSEUNI', 'DT_1_DOSE', 'DT_2_DOSE', 'ANTIVIRAL', 'TP_ANTIVIR', 'OUT_ANTIV', 'DT_ANTIVIR', 'HOSPITAL', 'DT_INTERNA']\n",
            "['SG_UF_INTE', 'ID_RG_INTE', 'CO_RG_INTE', 'ID_MN_INTE', 'CO_MU_INTE', 'UTI', 'DT_ENTUTI', 'DT_SAIDUTI', 'SUPORT_VEN', 'RAIOX_RES']\n",
            "['RAIOX_OUT', 'DT_RAIOX', 'AMOSTRA', 'DT_COLETA', 'TP_AMOSTRA', 'OUT_AMOST', 'PCR_RESUL', 'DT_PCR', 'POS_PCRFLU', 'TP_FLU_PCR']\n",
            "['PCR_FLUASU', 'FLUASU_OUT', 'PCR_FLUBLI', 'FLUBLI_OUT', 'POS_PCROUT', 'PCR_VSR', 'PCR_PARA1', 'PCR_PARA2', 'PCR_PARA3', 'PCR_PARA4']\n",
            "['PCR_ADENO', 'PCR_METAP', 'PCR_BOCA', 'PCR_RINO', 'PCR_OUTRO', 'DS_PCR_OUT', 'CLASSI_FIN', 'CLASSI_OUT', 'CRITERIO', 'EVOLUCAO']\n",
            "['DT_EVOLUCA', 'DT_ENCERRA', 'DT_DIGITA', 'HISTO_VGM', 'PAIS_VGM', 'CO_PS_VGM', 'LO_PS_VGM', 'DT_VGM', 'DT_RT_VGM', 'PCR_SARS2']\n",
            "['PAC_COCBO', 'PAC_DSCBO', 'OUT_ANIM', 'DOR_ABD', 'FADIGA', 'PERD_OLFT', 'PERD_PALA', 'TOMO_RES', 'TOMO_OUT', 'DT_TOMO']\n",
            "['TP_TES_AN', 'DT_RES_AN', 'RES_AN', 'POS_AN_FLU', 'TP_FLU_AN', 'POS_AN_OUT', 'AN_SARS2', 'AN_VSR', 'AN_PARA1', 'AN_PARA2']\n",
            "['AN_PARA3', 'AN_ADENO', 'AN_OUTRO', 'DS_AN_OUT', 'TP_AM_SOR', 'SOR_OUT', 'DT_CO_SOR', 'TP_SOR', 'OUT_SOR', 'DT_RES']\n",
            "['RES_IGG', 'RES_IGM', 'RES_IGA', 'ESTRANG', 'VACINA_COV', 'DOSE_1_COV', 'DOSE_2_COV', 'DOSE_REF', 'FAB_COV_1', 'FAB_COV_2']\n",
            "['FAB_COVREF', 'LAB_PR_COV', 'LOTE_1_COV', 'LOTE_2_COV', 'LOTE_REF', 'FNT_IN_COV', 'DOSE_2REF', 'FAB_COVRF2', 'LOTE_REF2', 'TRAT_COV']\n",
            "['TIPO_TRAT', 'OUT_TRAT', 'DT_TRT_COV']\n"
          ]
        }
      ]
    },
    {
      "cell_type": "markdown",
      "source": [
        "## Vamos gerar um histograma\n",
        "Histograma é uma forma de visualizar a distribuição de frequências de uma variável numérica. Auxilia a identificar padrões, tendências e características da distribuição.\n",
        "No eixo horizontal estão os intervalos (neste caso, intervalos de idade) e no eixo vertical estão as contagens (frequências)."
      ],
      "metadata": {
        "id": "f2k1SNJGtMPY"
      }
    },
    {
      "cell_type": "code",
      "source": [
        "# visualizando alguns dados\n",
        "plt.hist(dados['NU_IDADE_N'], bins=20)"
      ],
      "metadata": {
        "colab": {
          "base_uri": "https://localhost:8080/",
          "height": 569
        },
        "id": "1qXpn8_lslBQ",
        "outputId": "2f37a233-0522-4e93-afd0-d8fe3c2c1d21"
      },
      "execution_count": 29,
      "outputs": [
        {
          "output_type": "execute_result",
          "data": {
            "text/plain": [
              "(array([2.2291e+04, 5.7014e+04, 1.9503e+04, 2.7620e+03, 2.8000e+03,\n",
              "        3.4210e+03, 3.4430e+03, 4.6660e+03, 4.3180e+03, 5.5010e+03,\n",
              "        8.7700e+03, 9.5670e+03, 1.1621e+04, 1.0034e+04, 7.9680e+03,\n",
              "        4.1480e+03, 5.3600e+02, 6.0000e+01, 5.0000e+00, 3.0000e+00]),\n",
              " array([ -5. ,   1.4,   7.8,  14.2,  20.6,  27. ,  33.4,  39.8,  46.2,\n",
              "         52.6,  59. ,  65.4,  71.8,  78.2,  84.6,  91. ,  97.4, 103.8,\n",
              "        110.2, 116.6, 123. ]),\n",
              " <BarContainer object of 20 artists>)"
            ]
          },
          "metadata": {},
          "execution_count": 29
        },
        {
          "output_type": "display_data",
          "data": {
            "text/plain": [
              "<Figure size 640x480 with 1 Axes>"
            ],
            "image/png": "[encoded data removed]"
          },
          "metadata": {}
        }
      ]
    },
    {
      "cell_type": "markdown",
      "source": [
        "Esta base de dados contém a variável 'EVOLUÇÃO'. Esta variável indica o desfecho da infecção por SRAG, ou seja, se o paciente foi **curado** ou foi a **óbito**. **Temos aí duas classes possíveis: cura e óbito.**\n",
        "Vamos visualizar como estas classes estão distribuídas.\n",
        "Prestem atenção nas categorias:\n",
        "1 = CURA\n",
        "2 = ÓBITO\n",
        "9 = IGNORADO\n",
        "3 = ÓBITO POR OUTRAS CAUSAS"
      ],
      "metadata": {
        "id": "zy8fq2jKuO5I"
      }
    },
    {
      "cell_type": "code",
      "source": [
        "dados['EVOLUCAO'].value_counts()"
      ],
      "metadata": {
        "colab": {
          "base_uri": "https://localhost:8080/"
        },
        "id": "BK1jnk5ZuoFo",
        "outputId": "5630d22c-126c-49a8-a8d4-9f7090080828"
      },
      "execution_count": 31,
      "outputs": [
        {
          "output_type": "execute_result",
          "data": {
            "text/plain": [
              "1.0    123995\n",
              "2.0     13811\n",
              "9.0      4652\n",
              "3.0      4033\n",
              "Name: EVOLUCAO, dtype: int64"
            ]
          },
          "metadata": {},
          "execution_count": 31
        }
      ]
    },
    {
      "cell_type": "code",
      "source": [
        "dados['EVOLUCAO'].value_counts().plot(kind='bar')"
      ],
      "metadata": {
        "colab": {
          "base_uri": "https://localhost:8080/",
          "height": 455
        },
        "id": "CfzM4B5lvBmH",
        "outputId": "059ec36e-8dbd-448a-c9fa-8355885e6958"
      },
      "execution_count": 32,
      "outputs": [
        {
          "output_type": "execute_result",
          "data": {
            "text/plain": [
              "<Axes: >"
            ]
          },
          "metadata": {},
          "execution_count": 32
        },
        {
          "output_type": "display_data",
          "data": {
            "text/plain": [
              "<Figure size 640x480 with 1 Axes>"
            ],
            "image/png": "[encoded data removed]"
          },
          "metadata": {}
        }
      ]
    }
  ]
}